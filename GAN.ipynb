{
  "nbformat": 4,
  "nbformat_minor": 0,
  "metadata": {
    "colab": {
      "name": "GAN.ipynb",
      "provenance": [],
      "collapsed_sections": [],
      "machine_shape": "hm"
    },
    "kernelspec": {
      "name": "python3",
      "display_name": "Python 3"
    },
    "language_info": {
      "name": "python"
    },
    "accelerator": "GPU"
  },
  "cells": [
    {
      "cell_type": "code",
      "metadata": {
        "id": "PFaQZ3QHLmhk"
      },
      "source": [
        "import io\n",
        "import numpy as np\n",
        "from sklearn.metrics.pairwise import cosine_similarity\n",
        "import pandas as pd\n",
        "import time\n",
        "import scipy\n",
        "import matplotlib.pyplot as plt\n",
        "\n",
        "from torch.utils.data import TensorDataset, DataLoader\n",
        "import torch\n",
        "from torch.optim.lr_scheduler import StepLR\n",
        "import torch.nn as nn\n",
        "import torch.optim as optim\n",
        "from torch import device"
      ],
      "execution_count": 1,
      "outputs": []
    },
    {
      "cell_type": "code",
      "metadata": {
        "id": "vtOA_rbxL6Hs"
      },
      "source": [
        "import os\n",
        "os.chdir('drive/MyDrive/PSL/Project/Project 2')"
      ],
      "execution_count": 2,
      "outputs": []
    },
    {
      "cell_type": "code",
      "metadata": {
        "id": "JVjTPpCvWIZE"
      },
      "source": [
        "device = torch.device(\"cuda\" if torch.cuda.is_available() else \"cpu\")\n",
        "\n",
        "\n",
        "class Generator(nn.Module):\n",
        "    \n",
        "    \"\"\"\n",
        "      This defines the model that takes as input an embedding from the source language X\n",
        "      and outputs an embedding W @ X supposed to be close to the the target language (its translation)\n",
        "      This model is a 300 x 300 matrice, represented by the linear layer W. \n",
        "\n",
        "      args : \n",
        "          - beta : beta parameter for orthogonalization of W\n",
        "    \"\"\"\n",
        "\n",
        "    def __init__(self, beta = 0.01):\n",
        "        super().__init__()\n",
        "        self.W = nn.Linear(300, 300, bias=False)\n",
        "        self.beta = beta\n",
        "\n",
        "    def forward(self, x):\n",
        "        return self.W(x)\n",
        "    \n",
        "    \"\"\"\n",
        "    Forcing an orthogonalize constraint on W improves the accuracy of the prediction\n",
        "    \"\"\"\n",
        "    def orthogonalize(self):\n",
        "        W = self.W.weight.data\n",
        "        W_ortho = (1 + self.beta) * W - self.beta * W.mm(W.transpose(0,1).mm(W))\n",
        "        self.W.weight.data = W.copy_(W_ortho)\n",
        "\n",
        "    \"\"\"\n",
        "    Used for refinement. We use the surest predictions that W has made to recompute W using Procrustes solution on those predictions.\n",
        "    This way, it closes together the surest predictions, and with them the other predictions to give better accuracy.  \n",
        "    \n",
        "    args :\n",
        "        - target_embeddings : Y embeddings from the target language\n",
        "        - predicted_embeddings : W @ X  with X embeddings from the source language\n",
        "        - similar_pairs : pair of words (source, target) that W would pair together (according to cosine similarity)\n",
        "    \"\"\"\n",
        "    def procrustes(self, predicted_embeddings, target_embeddings, similar_pairs):\n",
        "        A = predicted_embeddings[similar_pairs[:,0]]\n",
        "        B = target_embeddings[similar_pairs[:,1]]\n",
        "        U, S, V_t = scipy.linalg.svd(B.T.dot(A), full_matrices=True)\n",
        "        self.W.weight.data.copy_(torch.tensor(U.dot(V_t)).type_as(self.W.weight.data))\n",
        "\n",
        "\n",
        "class Discriminator(nn.Module):\n",
        "    \"\"\"\n",
        "      This defines the model that takes as input embeddings from the target language Y,\n",
        "      or generated embeddings from the source language W @ X.\n",
        "      This model uses frequent dropouts and 2 hidden layers of 2048 x 2048 to have better accuracy.\n",
        "      It should output a single value after a sigmoid activation : \n",
        "        - 1 if the model thinks the embedding is from Y\n",
        "        - 0 if the model thinks the embedding is from W @ X\n",
        "    \"\"\"\n",
        "\n",
        "    def __init__(self):\n",
        "        super().__init__()\n",
        "        self.model = nn.Sequential(\n",
        "            nn.Dropout(0.1),\n",
        "            nn.Linear(300, 2048),\n",
        "            nn.Dropout(0.1),\n",
        "            nn.LeakyReLU(0.2),\n",
        "            nn.Linear(2048, 2048),\n",
        "            nn.Dropout(0.1),\n",
        "            nn.LeakyReLU(0.2),\n",
        "            nn.Linear(2048, 2048),\n",
        "            nn.Dropout(0.1),\n",
        "            nn.LeakyReLU(0.2),\n",
        "            nn.Linear(2048, 1),\n",
        "            nn.Sigmoid())\n",
        "        \n",
        "    def forward(self, x):\n",
        "        return self.model(x).reshape(-1)"
      ],
      "execution_count": 9,
      "outputs": []
    },
    {
      "cell_type": "code",
      "metadata": {
        "id": "CWE8ZVLsuIRD"
      },
      "source": [
        "class GAN():\n",
        "\n",
        "    def __init__(self, src_path, tgt_path, test_path, epochs=40, batch_size=32, lr=0.1, decay=0.98, beta=0.01):\n",
        "        \"\"\"\n",
        "        Defines the adversarial GAN and the methods to train and test it.\n",
        "        \n",
        "        args :\n",
        "            - src_path       path to the .vec file with the embeddings of the source language\n",
        "            - tgt_path       path to the .vec file with the embeddings of the target language\n",
        "            - test_path      path to the .txt file with the set of translations of the test set\n",
        "            - epochs         number of epochs to train on\n",
        "            - batch_size     batch size to train on \n",
        "            - lr             learning rate to start off with \n",
        "            - decay          decay of the learning rate at each epoch \n",
        "            - beta           beta parameter to orthogonalize the generator at each step\n",
        "        \"\"\"\n",
        "\n",
        "        ### LOADING THE DATA\n",
        "\n",
        "        # We load a maximum amount of embeddings at first (200k) to ensure we will have all the embeddings of the test set \n",
        "        self.src_embeddings, self.src_id2word, self.src_word2id = self.load_vec(src_path)\n",
        "        self.targ_embeddings, self.targ_id2word, self.targ_word2id = self.load_vec(tgt_path)\n",
        "        \n",
        "        self.epochs, self.batch_size = epochs, batch_size\n",
        "        \n",
        "        # We load the test set and store the embeddings in test_source_embeddings and test_target_embeddings (their indices are alined)\n",
        "        self.df_test = pd.read_csv(test_path, sep=\" \", header = None, na_filter=False, error_bad_lines=False)     # Sometimes the separator is '\\t' \n",
        "        self.dico_test = {}\n",
        "        self.test_source_embeddings, self.test_target_embeddings = [], []\n",
        "        self.load_data()\n",
        "        \n",
        "        # We reduce the dataset to the first 50000 embeddings otherwise the training is too long\n",
        "        self.src_embeddings, self.targ_embeddings = self.src_embeddings[:50000, :], self.targ_embeddings[:50000, :]\n",
        "\n",
        "\n",
        "        ### MODEL DEFINITION\n",
        "        self.generator = Generator(beta).to(device)\n",
        "        self.discriminator = Discriminator().to(device)\n",
        "        \n",
        "        # Here we store the best generator according to accuracy on the test set, to select our best epoch\n",
        "        self.best_W = None\n",
        "        self.best_accuracy = 0\n",
        "\n",
        "        # Optimisation parameters and learning rate decays for each model \n",
        "        self.BCE = nn.BCELoss()\n",
        "        self.optim_discri = optim.SGD(self.discriminator.parameters(), lr=lr)\n",
        "        self.optim_gen = optim.SGD(self.generator.parameters(), lr=lr)\n",
        "        self.lr_decay_discri = StepLR(self.optim_discri, step_size=1, gamma=decay)\n",
        "        self.lr_decay_gen = StepLR(self.optim_gen, step_size=1, gamma=decay)\n",
        "\n",
        "        ### DATA\n",
        "        self.X = TensorDataset(torch.from_numpy(self.src_embeddings).float().to(device))\n",
        "        self.Y = TensorDataset(torch.from_numpy(self.targ_embeddings).float().to(device))\n",
        "\n",
        "        self.dataloaderX = DataLoader(self.X, batch_size=batch_size, shuffle=True)\n",
        "        self.dataloaderY = DataLoader(self.Y, batch_size=batch_size, shuffle=True)\n",
        "\n",
        "        self.history = {\"discriminator loss\" : [], \"generator loss\" : [], \"accuracy\" : []}\n",
        "\n",
        "    def discriminator_step(self, y):\n",
        "        \"\"\"\n",
        "          Represents one fitting forward and backward step for the discriminator\n",
        "        \"\"\"\n",
        "        # We compute the output of the discriminator on real vs fake data\n",
        "        # On real data\n",
        "        output_discriminator_real = self.discriminator(y)\n",
        "        \n",
        "        # On fake data generated with the generator\n",
        "        x = next(iter(self.dataloaderX))\n",
        "        x = x[0].float().to(device)\n",
        "        fake_y = self.generator(x)\n",
        "        output_discriminator_fake = self.discriminator(fake_y)\n",
        "        \n",
        "        # Total output of the discriminator\n",
        "        output_discriminator = torch.cat((output_discriminator_real, output_discriminator_fake), dim=0)\n",
        "\n",
        "        # The labels are 1 for the real data, 0 for the fake one, but we soften them for better results\n",
        "        labels = torch.zeros(output_discriminator_real.shape[0] + output_discriminator_fake.shape[0]).to(device)\n",
        "        labels[:output_discriminator_real.shape[0]] = 0.8\n",
        "        labels[output_discriminator_real.shape[0]:] = 0.2\n",
        "\n",
        "        # Propagation of the loss\n",
        "        loss = self.BCE(output_discriminator, labels)\n",
        "        self.optim_discri.zero_grad()\n",
        "        loss.backward()\n",
        "        self.optim_discri.step()\n",
        "        self.history['discriminator loss'].append(loss.item())\n",
        "\n",
        "    def generator_step(self):\n",
        "        \"\"\"\n",
        "          Represents one fitting forward and backward step for the generator\n",
        "        \"\"\"\n",
        "\n",
        "        # We compute the output of the discriminator on fake data generated with the generator (forward pass)\n",
        "        x = next(iter(self.dataloaderX))\n",
        "        x = x[0].float().to(device)\n",
        "        fake_y = self.generator(x)\n",
        "        output_discriminator_fake = self.discriminator(fake_y)\n",
        "\n",
        "        # Expected labels should all be 1 since we want the discriminator to be fooled\n",
        "        fake_labels = torch.zeros(fake_y.shape[0]).to(device)\n",
        "        fake_labels[:] = 0.8\n",
        "\n",
        "        # Propagation of the loss\n",
        "        loss = self.BCE(output_discriminator_fake, fake_labels)\n",
        "        self.optim_gen.zero_grad()\n",
        "        loss.backward()\n",
        "        self.optim_gen.step()\n",
        "        self.history['generator loss'].append(loss.item())\n",
        "        self.generator.orthogonalize()\n",
        "\n",
        "    def fit(self):\n",
        "        \"\"\"\n",
        "          Fitting loop on the desired number of epochs\n",
        "        \"\"\"\n",
        "        \n",
        "        print(\"Beginning fitting..\")\n",
        "        \n",
        "        for epoch in range(self.epochs): \n",
        "            \n",
        "            for _, y in enumerate(self.dataloaderY):\n",
        "                # At each step, we train the discriminator to not be fooled, and then the generator to fool it\n",
        "                self.discriminator_step(y[0].float().to(device))\n",
        "                self.generator_step()\n",
        "            \n",
        "            accuracy = self.accuracy()\n",
        "            \n",
        "            # We store the best generator computed during the fitting\n",
        "            if accuracy > self.best_accuracy : \n",
        "                self.best_W = self.generator.W.weight.data.cpu().numpy()\n",
        "                self.best_accuracy = accuracy\n",
        "                \n",
        "            self.history[\"accuracy\"].append(accuracy)\n",
        "            print(f'Epoch {epoch+1}/{self.epochs} -> Discriminator loss : {self.history[\"discriminator loss\"][-1]}, Generator Loss : {self.history[\"generator loss\"][-1]}, Accuracy : {accuracy}')  \n",
        "            self.lr_decay_discri.step()\n",
        "            self.lr_decay_gen.step() \n",
        "\n",
        "        # We return the best generator computed during the fitting\n",
        "        self.generator.W.weight.data.copy_(torch.tensor(self.best_W))\n",
        "        print(\"Fitting Over\")\n",
        "\n",
        "    def refine(self):\n",
        "        \"\"\"\n",
        "          Refinement loop on the computed W. While it increases the accuracy, the refinement keeps going\n",
        "        \"\"\"\n",
        "\n",
        "        print(\"Beginning refinement..\")\n",
        "        self.generator.procrustes(self.src_embeddings, self.targ_embeddings, self.similar_pairs())\n",
        "        accuracy = self.accuracy()\n",
        "        i = 0\n",
        "        while accuracy > self.best_accuracy :\n",
        "            i+=1\n",
        "            print(f'Refinement {i}')\n",
        "            print(f'New accuracy : {accuracy}')\n",
        "            self.best_accuracy = accuracy \n",
        "            self.best_W = self.generator.W.weight.data.cpu().numpy()\n",
        "            self.generator.procrustes(self.src_embeddings, self.targ_embeddings, self.similar_pairs())\n",
        "            accuracy = self.accuracy()\n",
        "\n",
        "        self.generator.W.weight.data.copy_(torch.tensor(self.best_W))\n",
        "        print('Refinement over')\n",
        "\n",
        "    def load_vec(self, emb_path, nmax=200000):\n",
        "        \"\"\"\n",
        "          Loading function for the .vec files\n",
        "          \n",
        "          args : \n",
        "              - emb_path  path to the .vec file with the embeddings\n",
        "              - nmax      number of embeddings to load\n",
        "        \"\"\"\n",
        "\n",
        "        vectors = []\n",
        "        word2id = {}\n",
        "        with io.open(emb_path, 'r', encoding='utf-8', newline='\\n', errors='ignore') as f:\n",
        "            next(f)\n",
        "            for i, line in enumerate(f):\n",
        "                word, vect = line.rstrip().split(' ', 1)\n",
        "                vect = np.fromstring(vect, sep=' ')\n",
        "                assert word not in word2id, 'word found twice'\n",
        "                vectors.append(vect)\n",
        "                word2id[word] = len(word2id)\n",
        "                if len(word2id) == nmax:\n",
        "                    break\n",
        "        id2word = {v: k for k, v in word2id.items()}\n",
        "        embeddings = np.vstack(vectors)\n",
        "        return embeddings, id2word, word2id\n",
        "\n",
        "    def plot_loss(self):\n",
        "        \"\"\"\n",
        "          Plot the history of the losses during the training\n",
        "        \"\"\"\n",
        "\n",
        "        plt.plot(self.history[\"generator loss\"], label=\"Generator Loss\")\n",
        "        plt.plot(self.history[\"discriminator loss\"], label=\"Discriminator Loss\")\n",
        "        plt.title(\"Loss of generator and discriminator according to Time\")\n",
        "        plt.xlabel('Epochs')\n",
        "        plt.ylabel('BCE Loss')\n",
        "        plt.legend()\n",
        "    \n",
        "    def plot_accuracy(self):\n",
        "        \"\"\"\n",
        "          Plot the history of the accuracy during the training\n",
        "        \"\"\"\n",
        "\n",
        "        plt.plot(self.history[\"accuracy\"], label=\"Accuracy\")\n",
        "        plt.title(\"Nearest Neighbors Accuracy on Test Set according to Time\")\n",
        "        plt.xlabel('Epochs')\n",
        "        plt.ylabel('Accuracy')\n",
        "        plt.legend()\n",
        "\n",
        "    def load_data(self):\n",
        "        \"\"\"\n",
        "          Loads the self.dico_test, dict between the source words and the target words\n",
        "          Sometimes one word has multiple meaning and so translations\n",
        "          Also loads the embeddings that correspond to those words, in order\n",
        "        \"\"\"\n",
        "\n",
        "        for _, (w1, w2) in self.df_test.iterrows(): \n",
        "          if w1 in self.dico_test.keys():\n",
        "            self.dico_test[w1].append(w2)\n",
        "          else:\n",
        "            self.dico_test[w1] = [w2]\n",
        "                \n",
        "        for w in self.df_test[0] :\n",
        "            if w in self.src_word2id.keys() :\n",
        "              self.test_source_embeddings.append(self.src_embeddings[self.src_word2id[w]])\n",
        "\n",
        "        for w in self.df_test[1] :\n",
        "            if w in self.targ_word2id.keys() :\n",
        "              self.test_target_embeddings.append(self.targ_embeddings[self.targ_word2id[w]])\n",
        "\n",
        "    def predict(self):\n",
        "        \"\"\"\n",
        "          Predicts the translation of the test source words based on closest embeddings according to cosine similarity\n",
        "        \"\"\"\n",
        "\n",
        "        prediction = []\n",
        "        predicted_embeddings = self.generator(torch.Tensor(self.test_source_embeddings).to(device)).detach().cpu().numpy()\n",
        "        score = cosine_similarity(predicted_embeddings, self.targ_embeddings)\n",
        "        closest_idx = score.argmax(axis=1)\n",
        "        for i in closest_idx:\n",
        "            prediction.append(self.targ_id2word[i])\n",
        "        return prediction\n",
        "\n",
        "    def accuracy(self):\n",
        "        \"\"\"\n",
        "          Computes the 1 nearest neighbours accuracy based on the translation of the test source words with the current W\n",
        "        \"\"\"\n",
        "\n",
        "        predictions = self.predict()\n",
        "        good_predictions = 0\n",
        "        for i in range(len(predictions)) :\n",
        "            if predictions[i] in self.dico_test[self.df_test[0][i]]:\n",
        "                good_predictions +=1\n",
        "        return round(good_predictions / len(predictions) * 100, 2)    \n",
        "\n",
        "    def similar_pairs(self, n=10000):\n",
        "        \"\"\"\n",
        "          Computes cosine-similar pairs of embeddings from the W @ X and Y sets. \n",
        "          The similarity is computed from source to target embeddings, and from target to source embeddings.\n",
        "          The pair that are closest in both ways are kept and returned\n",
        "          Used for the procrustes refinement after the fitting\n",
        "        \"\"\"\n",
        "\n",
        "        predicted_embeddings = self.generator(torch.Tensor(self.src_embeddings).to(device)).detach().cpu().numpy()\n",
        "        \n",
        "        scores_src_to_tgt = cosine_similarity(predicted_embeddings, self.targ_embeddings[:n])\n",
        "        closest_idx_st = scores_src_to_tgt.argmax(axis=1)\n",
        "        similar_pairs_src_to_tgt = {(a, b) for a, b in enumerate(closest_idx_st)}\n",
        "        \n",
        "        scores_tgt_to_src = cosine_similarity(self.targ_embeddings[:n], predicted_embeddings)\n",
        "        closest_idx_ts = scores_tgt_to_src.argmax(axis=1)\n",
        "        similar_pairs_tgt_to_src = {(b, a) for a, b in enumerate(closest_idx_ts)}\n",
        "            \n",
        "        similar_pairs = list(similar_pairs_src_to_tgt.intersection(similar_pairs_tgt_to_src))\n",
        "        similar_pairs.sort()\n",
        "        return np.array(similar_pairs)\n"
      ],
      "execution_count": 27,
      "outputs": []
    },
    {
      "cell_type": "code",
      "metadata": {
        "colab": {
          "base_uri": "https://localhost:8080/"
        },
        "id": "dmh3AYXg8HXr",
        "outputId": "d9b82170-eace-4609-e14c-e82743842a01"
      },
      "source": [
        "\"\"\"src_path = 'wiki.fr.vec'\n",
        "tgt_path = 'wiki.en.vec'\n",
        "test_path = 'https://dl.fbaipublicfiles.com/arrival/dictionaries/fr-en.5000-6500.txt'\"\"\"\n",
        "\n",
        "src_path = 'wiki.en.vec'\n",
        "tgt_path = 'wiki.fr.vec'\n",
        "test_path = 'https://dl.fbaipublicfiles.com/arrival/dictionaries/en-fr.5000-6500.txt'\n",
        "\n",
        "\"\"\"src_path = 'wiki.fr.vec'\n",
        "tgt_path = 'wiki.it.vec'\n",
        "test_path = 'https://dl.fbaipublicfiles.com/arrival/dictionaries/fr-it.5000-6500.txt'\"\"\"\n",
        "\n",
        "\"\"\"src_path = 'wiki.it.vec'\n",
        "tgt_path = 'wiki.fr.vec'\n",
        "test_path = 'https://dl.fbaipublicfiles.com/arrival/dictionaries/it-fr.5000-6500.txt'\n",
        "\n",
        "src_path = 'wiki.en.vec'\n",
        "tgt_path = 'wiki.el.vec'\n",
        "test_path = 'https://dl.fbaipublicfiles.com/arrival/dictionaries/en-el.5000-6500.txt'\"\"\"\n",
        "\"\"\"\n",
        "src_path = 'wiki.el.vec'\n",
        "tgt_path = 'wiki.en.vec'\n",
        "test_path = 'https://dl.fbaipublicfiles.com/arrival/dictionaries/el-en.5000-6500.txt'\n",
        "\n",
        "src_path = 'wiki.en.vec'\n",
        "tgt_path = 'wiki.zh.vec'\n",
        "test_path = 'https://dl.fbaipublicfiles.com/arrival/dictionaries/en-zh.5000-6500.txt'\"\"\"\n",
        "\n",
        "model_GAN = GAN(src_path, tgt_path, test_path)\n",
        "model_GAN.fit()"
      ],
      "execution_count": 16,
      "outputs": [
        {
          "output_type": "stream",
          "name": "stdout",
          "text": [
            "Beginning fitting..\n",
            "Epoch 1/40 -> Discriminator loss : 0.6047642230987549, Generator Loss : 1.0097360610961914, Accuracy : 0.0\n",
            "Epoch 2/40 -> Discriminator loss : 0.5907635688781738, Generator Loss : 1.1524603366851807, Accuracy : 0.0\n",
            "Epoch 3/40 -> Discriminator loss : 0.5855974555015564, Generator Loss : 1.2735357284545898, Accuracy : 0.07\n",
            "Epoch 4/40 -> Discriminator loss : 0.593219518661499, Generator Loss : 1.3567118644714355, Accuracy : 0.61\n",
            "Epoch 5/40 -> Discriminator loss : 0.5684062242507935, Generator Loss : 1.1297801733016968, Accuracy : 1.43\n",
            "Epoch 6/40 -> Discriminator loss : 0.5704773664474487, Generator Loss : 1.3274240493774414, Accuracy : 4.62\n",
            "Epoch 7/40 -> Discriminator loss : 0.6174372434616089, Generator Loss : 1.3871405124664307, Accuracy : 12.3\n",
            "Epoch 8/40 -> Discriminator loss : 0.6042575836181641, Generator Loss : 1.4173927307128906, Accuracy : 19.54\n",
            "Epoch 9/40 -> Discriminator loss : 0.5831754803657532, Generator Loss : 1.0047483444213867, Accuracy : 30.78\n",
            "Epoch 10/40 -> Discriminator loss : 0.5791565179824829, Generator Loss : 1.166707158088684, Accuracy : 41.11\n",
            "Epoch 11/40 -> Discriminator loss : 0.5628925561904907, Generator Loss : 1.291133165359497, Accuracy : 46.04\n",
            "Epoch 12/40 -> Discriminator loss : 0.5759599208831787, Generator Loss : 1.134809136390686, Accuracy : 50.36\n",
            "Epoch 13/40 -> Discriminator loss : 0.5911354422569275, Generator Loss : 1.3377039432525635, Accuracy : 56.27\n",
            "Epoch 14/40 -> Discriminator loss : 0.6217289566993713, Generator Loss : 1.311044692993164, Accuracy : 60.18\n",
            "Epoch 15/40 -> Discriminator loss : 0.5575587153434753, Generator Loss : 1.1871237754821777, Accuracy : 62.56\n",
            "Epoch 16/40 -> Discriminator loss : 0.6012720465660095, Generator Loss : 1.1841058731079102, Accuracy : 66.36\n",
            "Epoch 17/40 -> Discriminator loss : 0.5601010322570801, Generator Loss : 1.1042604446411133, Accuracy : 65.55\n",
            "Epoch 18/40 -> Discriminator loss : 0.5759121179580688, Generator Loss : 1.1260151863098145, Accuracy : 66.77\n",
            "Epoch 19/40 -> Discriminator loss : 0.5964248180389404, Generator Loss : 1.268856406211853, Accuracy : 68.6\n",
            "Epoch 20/40 -> Discriminator loss : 0.5897222757339478, Generator Loss : 1.3134909868240356, Accuracy : 69.08\n",
            "Epoch 21/40 -> Discriminator loss : 0.5817486047744751, Generator Loss : 1.276796579360962, Accuracy : 68.47\n",
            "Epoch 22/40 -> Discriminator loss : 0.5495083332061768, Generator Loss : 1.4443237781524658, Accuracy : 67.58\n",
            "Epoch 23/40 -> Discriminator loss : 0.6078704595565796, Generator Loss : 1.3413002490997314, Accuracy : 67.62\n",
            "Epoch 24/40 -> Discriminator loss : 0.5724353194236755, Generator Loss : 1.1298017501831055, Accuracy : 68.09\n",
            "Epoch 25/40 -> Discriminator loss : 0.584659993648529, Generator Loss : 1.2826533317565918, Accuracy : 69.55\n",
            "Epoch 26/40 -> Discriminator loss : 0.5692559480667114, Generator Loss : 1.4323205947875977, Accuracy : 69.93\n",
            "Epoch 27/40 -> Discriminator loss : 0.5569428205490112, Generator Loss : 1.3781797885894775, Accuracy : 70.74\n",
            "Epoch 28/40 -> Discriminator loss : 0.5919232368469238, Generator Loss : 1.2975432872772217, Accuracy : 71.29\n",
            "Epoch 29/40 -> Discriminator loss : 0.5617499947547913, Generator Loss : 1.4071803092956543, Accuracy : 70.61\n",
            "Epoch 30/40 -> Discriminator loss : 0.5569321513175964, Generator Loss : 1.302344799041748, Accuracy : 69.05\n",
            "Epoch 31/40 -> Discriminator loss : 0.571759045124054, Generator Loss : 1.1582454442977905, Accuracy : 70.37\n",
            "Epoch 32/40 -> Discriminator loss : 0.5558456182479858, Generator Loss : 1.2478129863739014, Accuracy : 70.0\n",
            "Epoch 33/40 -> Discriminator loss : 0.5482314825057983, Generator Loss : 1.1456406116485596, Accuracy : 69.69\n",
            "Epoch 34/40 -> Discriminator loss : 0.5569275617599487, Generator Loss : 1.2138962745666504, Accuracy : 69.42\n",
            "Epoch 35/40 -> Discriminator loss : 0.5555565357208252, Generator Loss : 1.215662956237793, Accuracy : 69.76\n",
            "Epoch 36/40 -> Discriminator loss : 0.5411492586135864, Generator Loss : 1.1727347373962402, Accuracy : 68.3\n",
            "Epoch 37/40 -> Discriminator loss : 0.5678715109825134, Generator Loss : 1.2460365295410156, Accuracy : 67.21\n",
            "Epoch 38/40 -> Discriminator loss : 0.5480165481567383, Generator Loss : 1.1281242370605469, Accuracy : 68.64\n",
            "Epoch 39/40 -> Discriminator loss : 0.5533177256584167, Generator Loss : 1.1860417127609253, Accuracy : 68.4\n",
            "Epoch 40/40 -> Discriminator loss : 0.5522361397743225, Generator Loss : 1.1482863426208496, Accuracy : 68.64\n",
            "Fitting Over\n"
          ]
        }
      ]
    },
    {
      "cell_type": "code",
      "metadata": {
        "colab": {
          "base_uri": "https://localhost:8080/",
          "height": 295
        },
        "id": "Mpmi8WdVApV5",
        "outputId": "01e09abf-95fd-472e-a274-d60506301fec"
      },
      "source": [
        "model_GAN.plot_loss()"
      ],
      "execution_count": 18,
      "outputs": [
        {
          "output_type": "display_data",
          "data": {
            "image/png": "[encoded data removed]",
            "text/plain": [
              "<Figure size 432x288 with 1 Axes>"
            ]
          },
          "metadata": {
            "needs_background": "light"
          }
        }
      ]
    },
    {
      "cell_type": "code",
      "metadata": {
        "colab": {
          "base_uri": "https://localhost:8080/",
          "height": 295
        },
        "id": "4dVSZwzgAg3J",
        "outputId": "14ddf49a-b650-481d-f62e-eae3c1ac1e37"
      },
      "source": [
        "model_GAN.plot_accuracy()"
      ],
      "execution_count": 19,
      "outputs": [
        {
          "output_type": "display_data",
          "data": {
            "image/png": "[encoded data removed]",
            "text/plain": [
              "<Figure size 432x288 with 1 Axes>"
            ]
          },
          "metadata": {
            "needs_background": "light"
          }
        }
      ]
    },
    {
      "cell_type": "code",
      "metadata": {
        "colab": {
          "base_uri": "https://localhost:8080/"
        },
        "id": "PgB4effuagWN",
        "outputId": "428b84d7-9a10-47aa-ad11-19be907288b3"
      },
      "source": [
        "model_GAN.accuracy()"
      ],
      "execution_count": 20,
      "outputs": [
        {
          "output_type": "execute_result",
          "data": {
            "text/plain": [
              "71.29"
            ]
          },
          "metadata": {},
          "execution_count": 20
        }
      ]
    },
    {
      "cell_type": "code",
      "metadata": {
        "colab": {
          "base_uri": "https://localhost:8080/"
        },
        "id": "4enSgkGoCsKj",
        "outputId": "f8ffa5e7-ede5-4315-c86d-a6fd098deb6a"
      },
      "source": [
        "model_GAN.refine()"
      ],
      "execution_count": 21,
      "outputs": [
        {
          "output_type": "stream",
          "name": "stdout",
          "text": [
            "Beginning refinement..\n",
            "Refinement 1\n",
            "New accuracy : 79.34\n",
            "Refinement 2\n",
            "New accuracy : 79.48\n",
            "Refinement 3\n",
            "New accuracy : 79.95\n",
            "Refinement over\n"
          ]
        }
      ]
    },
    {
      "cell_type": "code",
      "metadata": {
        "id": "zyt8MWachKYr"
      },
      "source": [
        "from sklearn.manifold import TSNE\n",
        "def plot_similar_word(idx, model):\n",
        "\n",
        "    Y = []\n",
        "    word_labels = []\n",
        "    for i in idx:\n",
        "        Y.append(model.test_source_embeddings[i] @ model.best_W)\n",
        "        word_labels.append(model.df_test[0][i])\n",
        "    for i in idx:\n",
        "        Y.append(model.test_target_embeddings[i])\n",
        "        word_labels.append(model.df_test[1][i])\n",
        "    print(len(Y))\n",
        "    tsne_model = TSNE(perplexity=3, n_components=2, init='pca', n_iter=2500, random_state=23)\n",
        "    Y = tsne_model.fit_transform(Y)\n",
        "\n",
        "    # find tsne coords for 2 dimensions\n",
        "    x_coords = Y[:, 0]\n",
        "    y_coords = Y[:, 1]\n",
        "\n",
        "    # display scatter plot\n",
        "    plt.figure(figsize=(10, 8), dpi=80)\n",
        "    plt.scatter(x_coords, y_coords, marker='x')\n",
        "\n",
        "    for k, (label, x, y) in enumerate(zip(word_labels, x_coords, y_coords)):\n",
        "        color = 'blue' if k < len(idx) else 'red'  # src words in blue / tgt words in red\n",
        "        plt.annotate(label, xy=(x, y), xytext=(0, 0), textcoords='offset points', fontsize=19,\n",
        "                     color=color, weight='bold')\n",
        "\n",
        "    plt.xlim(x_coords.min() - 0.2, x_coords.max() + 0.2)\n",
        "    plt.ylim(y_coords.min() - 0.2, y_coords.max() + 0.2)\n",
        "    plt.title('Visualization of the multilingual word embedding space')\n",
        "\n",
        "    plt.show()"
      ],
      "execution_count": 23,
      "outputs": []
    },
    {
      "cell_type": "code",
      "metadata": {
        "colab": {
          "base_uri": "https://localhost:8080/",
          "height": 655
        },
        "id": "JASBAP08kz6Q",
        "outputId": "fffe96bf-fb23-48d9-bcbf-2b25640f780a"
      },
      "source": [
        "import random\n",
        "idx = random.sample(range(1,len(model_GAN.test_target_embeddings)), 4)\n",
        "plot_similar_word(idx, model_GAN)"
      ],
      "execution_count": 24,
      "outputs": [
        {
          "output_type": "stream",
          "name": "stdout",
          "text": [
            "8\n"
          ]
        },
        {
          "output_type": "stream",
          "name": "stderr",
          "text": [
            "/usr/local/lib/python3.7/dist-packages/sklearn/manifold/_t_sne.py:793: FutureWarning: The default learning rate in TSNE will change from 200.0 to 'auto' in 1.2.\n",
            "  FutureWarning,\n",
            "/usr/local/lib/python3.7/dist-packages/sklearn/manifold/_t_sne.py:986: FutureWarning: The PCA initialization in TSNE will change to have the standard deviation of PC1 equal to 1e-4 in 1.2. This will ensure better convergence.\n",
            "  FutureWarning,\n"
          ]
        },
        {
          "output_type": "display_data",
          "data": {
            "image/png": "[encoded data removed]",
            "text/plain": [
              "<Figure size 800x640 with 1 Axes>"
            ]
          },
          "metadata": {
            "needs_background": "light"
          }
        }
      ]
    }
  ]
}